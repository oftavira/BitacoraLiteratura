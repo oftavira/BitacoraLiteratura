{
 "cells": [
  {
   "cell_type": "markdown",
   "metadata": {},
   "source": [
    "$$\n",
    "        X = \\begin{bmatrix}\n",
    "         |  &  |  & |  \\\\\n",
    "        x_1 & ... & x_n\\\\\n",
    "         |  &  |  & |\n",
    "        \\end{bmatrix}\n",
    "$$"
   ]
  },
  {
   "cell_type": "markdown",
   "metadata": {},
   "source": [
    "$$\n",
    "\\textrm{Integral transforms} \\\\ \\textrm{Kernel and Space}\n",
    "$$"
   ]
  },
  {
   "cell_type": "markdown",
   "metadata": {},
   "source": [
    "$$\n",
    "\\textrm{Representation of a vector in a basis} \\\\\n",
    "\n",
    "\\textrm{Let} \\: \\vec{v} \\: \\& \\: \\vec{w} \\: \\in \\:\\mathbb{C^p} \\\\\n",
    "\n",
    "\\langle \\vec{v} \\; , \\; \\vec{w} \\rangle = \\sum_{i=1}^{p} v_i \\, w_i\n",
    "\n",
    "$$"
   ]
  },
  {
   "cell_type": "markdown",
   "metadata": {},
   "source": [
    "$$\n",
    "F(\\alpha) = \\int_{\\Omega} f(t) K(\\alpha, t) \\: dt\n",
    "$$"
   ]
  },
  {
   "cell_type": "markdown",
   "metadata": {},
   "source": [
    "$$\n",
    "F(\\omega) = \\frac{1}{\\sqrt{2\\pi}} \\int_{-\\infty}^{+\\infty} f(t) \\: e^{i\\omega t} dt\n",
    "$$"
   ]
  },
  {
   "cell_type": "markdown",
   "metadata": {},
   "source": []
  },
  {
   "cell_type": "markdown",
   "metadata": {},
   "source": []
  }
 ],
 "metadata": {
  "kernelspec": {
   "display_name": "Python 3 (ipykernel)",
   "language": "python",
   "name": "python3"
  },
  "language_info": {
   "codemirror_mode": {
    "name": "ipython",
    "version": 3
   },
   "file_extension": ".py",
   "mimetype": "text/x-python",
   "name": "python",
   "nbconvert_exporter": "python",
   "pygments_lexer": "ipython3",
   "version": "3.10.7"
  },
  "vscode": {
   "interpreter": {
    "hash": "e7370f93d1d0cde622a1f8e1c04877d8463912d04d973331ad4851f04de6915a"
   }
  }
 },
 "nbformat": 4,
 "nbformat_minor": 2
}
