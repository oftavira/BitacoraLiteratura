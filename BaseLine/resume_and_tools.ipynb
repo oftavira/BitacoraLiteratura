{
 "cells": [
  {
   "cell_type": "markdown",
   "metadata": {},
   "source": [
    "#### Main purpose...\n",
    "\n",
    "A method based on joint sparse representation is applied to denoise Raman signal and to obtain the sparse representation of this signal. The information preserves trough the analysis, an orthogonal matching pursuit algorithm provides this develop.\n",
    "\n",
    "Sparse representation intend to represent signals with as few as possible significant coefficients. Thus, the information must be preserved and the coefficients may carry the most important features of the samples"
   ]
  },
  {
   "cell_type": "markdown",
   "metadata": {},
   "source": [
    "#### Sources of Noise\n",
    "\n",
    "- Unspecific absorption of radiation by colored or black samples\n",
    "- Charge couple device of Raman spectrometer"
   ]
  },
  {
   "cell_type": "markdown",
   "metadata": {},
   "source": [
    "#### Methods to denoise\n",
    "\n",
    "- Savitzky-Goaly\n",
    "- Wavelet transform\n",
    "- Empirical mode decomposition\n",
    "-"
   ]
  },
  {
   "cell_type": "markdown",
   "metadata": {},
   "source": [
    "#### Typical Sparse Representation Problem\n",
    "\n",
    "Sparse Representation has been attracting more and more interest in the signal processing field in recent years\n",
    "\n",
    "$$ y = Ds \\qquad (1)$$\n",
    "\n",
    "in which\n",
    "\n",
    "D Is a given dictionary matrix, it is an over complete dictionary\n",
    "$$ D \\in \\mathbb{R}^{M \\times N} \\mid  M \\leq N$$\n",
    "\n",
    "y Is a signal vector\n",
    "$$ y \\in \\mathbb{R}^{M} $$\n",
    "\n",
    "S is the representation coefficient vector, which is known to be sparse, that is, the number of nonzero terms in s is far less than N\n",
    "$$ s \\in \\mathbb{R}^{N} $$ "
   ]
  },
  {
   "cell_type": "markdown",
   "metadata": {},
   "source": [
    "In the research of sparse representation, the construction of dictionaries and the study of recovery algorithms computing sparse signal representation are closely related to a given dictinoary. The dictionaries should be designed to better fi the model in equaqtion (1)"
   ]
  },
  {
   "cell_type": "markdown",
   "metadata": {},
   "source": [
    "Two kinds of dictionaries can be chosen in the sparse representation, selecting one from a prespecified set of linear transforms or learned dictionary\n",
    "\n",
    "Traditional sparse representation can be solved using the following optimization problem\n",
    "\n",
    "$$ \\min_{s} ||s||_{0}  \\qquad y = Ds \\qquad or \\qquad \\rVert y-Ds \\rVert_{2} \\leq \\epsilon $$ \n",
    "\n",
    "Where"
   ]
  },
  {
   "cell_type": "code",
   "execution_count": 2,
   "metadata": {},
   "outputs": [],
   "source": [
    "import sys\n",
    "import os\n",
    "\n",
    "current = os.getcwd()\n",
    "sys.path.append (current.replace('BaseLine','LocalPackages'))\n",
    "\n",
    "from contents import *"
   ]
  },
  {
   "cell_type": "code",
   "execution_count": 3,
   "metadata": {},
   "outputs": [],
   "source": [
    "rs = RamanSpectraGroup()\n"
   ]
  },
  {
   "cell_type": "code",
   "execution_count": 4,
   "metadata": {},
   "outputs": [],
   "source": [
    "rs.getFilesFromPath(path='/DataDrivenSE/datosramana')"
   ]
  },
  {
   "cell_type": "code",
   "execution_count": null,
   "metadata": {},
   "outputs": [],
   "source": [
    "# TODO: Encapsular el ploteo de un espectro en la clase Raman Spectra"
   ]
  }
 ],
 "metadata": {
  "kernelspec": {
   "display_name": "Python 3 (ipykernel)",
   "language": "python",
   "name": "python3"
  },
  "language_info": {
   "codemirror_mode": {
    "name": "ipython",
    "version": 3
   },
   "file_extension": ".py",
   "mimetype": "text/x-python",
   "name": "python",
   "nbconvert_exporter": "python",
   "pygments_lexer": "ipython3",
   "version": "3.10.8"
  },
  "vscode": {
   "interpreter": {
    "hash": "e7370f93d1d0cde622a1f8e1c04877d8463912d04d973331ad4851f04de6915a"
   }
  }
 },
 "nbformat": 4,
 "nbformat_minor": 2
}
