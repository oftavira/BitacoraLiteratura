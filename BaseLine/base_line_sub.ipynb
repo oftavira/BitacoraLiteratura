{
 "cells": [
  {
   "cell_type": "markdown",
   "metadata": {},
   "source": [
    "En esta notebook se muestra un resumen del artículo \"Automated algorithm for baseline substraction in spectra\". Las palabras clave son\n",
    "\n",
    "- Wavelet Transform\n",
    "- Baseline substraction\n",
    "- Noise, Background, Signal\n",
    "\n",
    "En el artículo se hace enfasis en el calculo de la segunda variación local en espectros Raman para la discriminación entre ruido y señal. El método o algoritmo posee la peculiaridad de no necesitar de una entrada adicional por parte del usuario, en contraste con otras tecnicas que requieren de un conocimiento previo de las muestras o del equipo.\n",
    "\n",
    "$\\textnormal{Wavelet Transform:}$ Reconstrucción de un espectro utilizando cuantos de onda. Estos cuantos son conocidos como wavelets.\n",
    "\n",
    "$\\textnormal{Median Filtering:}$ A un punto en el eje $x$ se asigna el valor de la media dentro de un intervalo.\n",
    "\n",
    "$\\$"
   ]
  },
  {
   "cell_type": "markdown",
   "metadata": {},
   "source": []
  }
 ],
 "metadata": {
  "kernelspec": {
   "display_name": "Python 3.10.7 64-bit",
   "language": "python",
   "name": "python3"
  },
  "language_info": {
   "codemirror_mode": {
    "name": "ipython",
    "version": 3
   },
   "file_extension": ".py",
   "mimetype": "text/x-python",
   "name": "python",
   "nbconvert_exporter": "python",
   "pygments_lexer": "ipython3",
   "version": "3.10.7"
  },
  "orig_nbformat": 4,
  "vscode": {
   "interpreter": {
    "hash": "e7370f93d1d0cde622a1f8e1c04877d8463912d04d973331ad4851f04de6915a"
   }
  }
 },
 "nbformat": 4,
 "nbformat_minor": 2
}
