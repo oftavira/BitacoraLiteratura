{
 "cells": [
  {
   "cell_type": "code",
   "execution_count": null,
   "metadata": {},
   "outputs": [],
   "source": [
    "\"\"\"\n",
    "As it has been discused, the additive noise, namely Gaussian or Poisson, are good tools\n",
    "when dealing with Natural phenomena, thus, we need to recover some of the basic functions that can help improve user´s \n",
    "relationship between theory/model and phenomena, this notebook contains some tools in python and maybe some formulas related\n",
    "to the theory\n",
    "\"\"\""
   ]
  },
  {
   "cell_type": "markdown",
   "metadata": {},
   "source": [
    "***\n",
    "Normal distribution formula\n",
    "\n",
    "$$ \\large f(x) = \\frac{1}{\\sigma\\sqrt{2\\pi}} \\Large e^{\\frac{-(x-\\mu)^{2}}{2\\sigma² }}$$\n",
    "***"
   ]
  },
  {
   "cell_type": "code",
   "execution_count": 15,
   "metadata": {},
   "outputs": [],
   "source": [
    "def mdist(x, sigma = 1, mu = 1):\n",
    "    from cmath import pi, e\n",
    "    from math import exp, sqrt\n",
    "    return (1)/(sigma*sqrt(2*pi))*exp(-(x-mu)**2/(2*sigma**2))"
   ]
  },
  {
   "cell_type": "markdown",
   "metadata": {},
   "source": []
  }
 ],
 "metadata": {
  "kernelspec": {
   "display_name": "Python 3.10.5 64-bit",
   "language": "python",
   "name": "python3"
  },
  "language_info": {
   "codemirror_mode": {
    "name": "ipython",
    "version": 3
   },
   "file_extension": ".py",
   "mimetype": "text/x-python",
   "name": "python",
   "nbconvert_exporter": "python",
   "pygments_lexer": "ipython3",
   "version": "3.10.5"
  },
  "orig_nbformat": 4,
  "vscode": {
   "interpreter": {
    "hash": "e7370f93d1d0cde622a1f8e1c04877d8463912d04d973331ad4851f04de6915a"
   }
  }
 },
 "nbformat": 4,
 "nbformat_minor": 2
}
