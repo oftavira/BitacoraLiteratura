{
 "cells": [
  {
   "cell_type": "markdown",
   "metadata": {},
   "source": [
    "* #### Guia para la utilizaciòn de Jupyter notebooks\n",
    "\n",
    "[referencia 1](https://medium.com/analytics-vidhya/the-jupyter-notebook-formatting-guide-873ab39f765e)\n",
    "[referencia 2](https://jupyterbook.org/en/stable/content/references.html)\n",
    "\n",
    "***\n",
    "\n",
    "* #### [Probabilidad Ref. 1](https://docslib.org/doc/411355/na%C3%AFve-bayes-classifier)\n",
    "* #### [Probabilidad Ref. 2](https://www.probabilitycourse.com/chapter5/5_2_1_joint_pdf.php)"
   ]
  },
  {
   "cell_type": "markdown",
   "metadata": {},
   "source": []
  }
 ],
 "metadata": {
  "kernelspec": {
   "display_name": "Python 3.10.5 64-bit",
   "language": "python",
   "name": "python3"
  },
  "language_info": {
   "name": "python",
   "version": "3.10.6"
  },
  "orig_nbformat": 4,
  "vscode": {
   "interpreter": {
    "hash": "e7370f93d1d0cde622a1f8e1c04877d8463912d04d973331ad4851f04de6915a"
   }
  }
 },
 "nbformat": 4,
 "nbformat_minor": 2
}
