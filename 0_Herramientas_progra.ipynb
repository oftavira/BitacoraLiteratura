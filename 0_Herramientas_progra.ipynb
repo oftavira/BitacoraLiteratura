{
 "cells": [
  {
   "cell_type": "markdown",
   "metadata": {},
   "source": [
    "## Herramientas programáticas\n",
    "\n",
    "En lo siguiente se dara una lista de las herramientas utilizadas así como de las funciones que realizan\n",
    "\n",
    "* Github (Permite almacenar, compartir, modificar, publicar e installar código fácilmente)\n",
    "\n",
    "* VSCode (Editor de código multiplataforma)\n",
    "  - Todo Tree (Es una extención que permite etiquetar actividades y tareas por resolver dentro del código)\n",
    "  - Github Sync (Sincroniza cuentas y proyectos desde github para subir o descargar contenido)\n",
    "\n",
    "* Python\n",
    "  - JupyterNotebook (Editor de código python interactivo)\n",
    "  - Manim (Para animaciones con la característica de introducción de objetos LaTex, texto normal, imagenes y gifs)\n",
    "  - Matplotlib (Paquetería que permite graficar de manera programática)\n",
    "  - Py3DMol (Para representar moleculas tridimensioalmente)"
   ]
  },
  {
   "cell_type": "markdown",
   "metadata": {},
   "source": [
    "La propuesta para la colaboración se basa principalmente en el uso de la extensión \"TODO TREE\". Esta extensión permite etiquetar partes del código para ser revisadas facilmente a través de la pestaña de navegación de la extensión"
   ]
  },
  {
   "cell_type": "markdown",
   "metadata": {},
   "source": []
  }
 ],
 "metadata": {
  "kernelspec": {
   "display_name": "Python 3.10.7 64-bit",
   "language": "python",
   "name": "python3"
  },
  "language_info": {
   "name": "python",
   "version": "3.10.7"
  },
  "orig_nbformat": 4,
  "vscode": {
   "interpreter": {
    "hash": "e7370f93d1d0cde622a1f8e1c04877d8463912d04d973331ad4851f04de6915a"
   }
  }
 },
 "nbformat": 4,
 "nbformat_minor": 2
}
