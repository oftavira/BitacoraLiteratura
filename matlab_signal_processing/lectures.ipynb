{
 "cells": [
  {
   "cell_type": "markdown",
   "metadata": {},
   "source": [
    "The purpose of this notebook is to resume the content in this book.\n",
    "\n",
    "As it has been discused (need to put reference of this) it seems reasonably to pursuit a model that can describe dynamical systems over time. The means we have are measurements and mathematical model of the system dynamics"
   ]
  },
  {
   "cell_type": "markdown",
   "metadata": {},
   "source": []
  }
 ],
 "metadata": {
  "language_info": {
   "name": "python"
  },
  "orig_nbformat": 4
 },
 "nbformat": 4,
 "nbformat_minor": 2
}
