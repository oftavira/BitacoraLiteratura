{
 "cells": [
  {
   "cell_type": "markdown",
   "metadata": {},
   "source": [
    "* Stocastic Variable\n",
    "\n",
    "A random variable (also called random quantity, aleatory variable, or stochastic variable) is a mathematical formalization of a quantity or object which depends on random events. It is a mapping or a function from possible outcomes in a sample space to a measurable space, often the real numbers.\n",
    "\n",
    "* Joint Probability Density Function\n",
    "\n",
    "Two random variables X and Y are jointly continuous if there exist a nonnegative function \n",
    "\n",
    "$$ f_{XY} : \\mathbb{R²} \\rightarrow \\mathbb{R} $$\n",
    "\n",
    "Such that, for any set \n",
    "\n",
    "$$ A \\in \\mathbb{R²} $$\n",
    "\n",
    "$$ P((X,Y) \\in  A) = \\iint\\limits_{A} f_{XY} (x,y) dx dy $$"
   ]
  }
 ],
 "metadata": {
  "language_info": {
   "name": "python"
  },
  "orig_nbformat": 4
 },
 "nbformat": 4,
 "nbformat_minor": 2
}
