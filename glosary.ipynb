{
 "cells": [
  {
   "cell_type": "markdown",
   "metadata": {},
   "source": [
    "***\n",
    "\n",
    "* ### Stocastic Variable\n",
    "\n",
    "A random variable (also called random quantity, aleatory variable, or stochastic variable) is a mathematical formalization of a quantity or object which depends on random events. It is a mapping or a function from possible outcomes in a sample space to a measurable space, often the real numbers.\n",
    "\n",
    "\n",
    "\n",
    "\n",
    "*** \n",
    "\n",
    "* ### Joint Probability Density Function\n",
    "\n",
    "Two random variables X and Y are jointly continuous if there exist a nonnegative function \n",
    "\n",
    "$$ f_{XY} : \\mathbb{R²} \\rightarrow \\mathbb{R} $$\n",
    "\n",
    "Such that, for any set \n",
    "\n",
    "$$ A \\in \\mathbb{R²} $$\n",
    "\n",
    "$$ P((X,Y) \\in  A) = \\iint\\limits_{A} f_{XY} (x,y) dx dy $$\n",
    "\n",
    "\n",
    "\n",
    "\n",
    "***\n"
   ]
  },
  {
   "cell_type": "markdown",
   "metadata": {},
   "source": [
    "In probability, statistics and related fields, a Poisson point process is a type of random mathematical object that consists of points randomly located on a mathematical space"
   ]
  },
  {
   "cell_type": "markdown",
   "metadata": {},
   "source": [
    "$$ \\mathrm{Poisson}(\\lambda)=\\mathrm{Gaussian}(\\mu=\\lambda,\\,\\sigma^2=\\lambda) $$"
   ]
  },
  {
   "cell_type": "code",
   "execution_count": 2,
   "metadata": {},
   "outputs": [
    {
     "data": {
      "image/png": "[encoded data removed]",
      "text/plain": [
       "<Figure size 432x288 with 1 Axes>"
      ]
     },
     "metadata": {
      "needs_background": "light"
     },
     "output_type": "display_data"
    }
   ],
   "source": [
    "import matplotlib.pyplot as plt\n",
    "import numpy as np\n",
    "import scipy.stats as stats\n",
    "import math\n",
    "\n",
    "mu = 0\n",
    "variance = 1\n",
    "sigma = math.sqrt(variance)\n",
    "x = np.linspace(mu - 3*sigma, mu + 3*sigma, 100)\n",
    "plt.plot(x, stats.norm.pdf(x, mu, sigma))\n",
    "plt.show()"
   ]
  },
  {
   "cell_type": "markdown",
   "metadata": {},
   "source": [
    "***\n",
    "\n",
    "It would be necesary to write the covariance and the variance of a quantity or vector\n",
    "\n",
    "The matrix formed from the pairwise covariances of several randomvariables; more precisely, for the $k-dimensional$ vector $X = (X_1...\\; X_k)$\n",
    "\n",
    "***"
   ]
  },
  {
   "cell_type": "code",
   "execution_count": 4,
   "metadata": {},
   "outputs": [
    {
     "name": "stdout",
     "output_type": "stream",
     "text": [
      "Shape of array:\n",
      " (3, 3)\n",
      "Covariance matrix of x:\n",
      " [[4.33333333 2.83333333 2.        ]\n",
      " [2.83333333 2.33333333 1.5       ]\n",
      " [2.         1.5        1.        ]]\n"
     ]
    }
   ],
   "source": [
    "# Python code to demonstrate the\n",
    "# use of numpy.cov\n",
    "import numpy as np\n",
    " \n",
    "x = np.array([[0, 3, 4], [1, 2, 4], [3, 4, 5]])\n",
    "print(\"Shape of array:\\n\", np.shape(x))\n",
    "print(\"Covariance matrix of x:\\n\", np.cov(x))"
   ]
  },
  {
   "cell_type": "markdown",
   "metadata": {},
   "source": []
  }
 ],
 "metadata": {
  "kernelspec": {
   "display_name": "Python 3.10.5 64-bit",
   "language": "python",
   "name": "python3"
  },
  "language_info": {
   "codemirror_mode": {
    "name": "ipython",
    "version": 3
   },
   "file_extension": ".py",
   "mimetype": "text/x-python",
   "name": "python",
   "nbconvert_exporter": "python",
   "pygments_lexer": "ipython3",
   "version": "3.10.5"
  },
  "orig_nbformat": 4,
  "vscode": {
   "interpreter": {
    "hash": "e7370f93d1d0cde622a1f8e1c04877d8463912d04d973331ad4851f04de6915a"
   }
  }
 },
 "nbformat": 4,
 "nbformat_minor": 2
}
