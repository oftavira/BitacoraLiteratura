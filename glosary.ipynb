{
 "cells": [
  {
   "cell_type": "markdown",
   "metadata": {},
   "source": [
    "***\n",
    "\n",
    "* ### Stocastic Variable\n",
    "\n",
    "A random variable (also called random quantity, aleatory variable, or stochastic variable) is a mathematical formalization of a quantity or object which depends on random events. It is a mapping or a function from possible outcomes in a sample space to a measurable space, often the real numbers.\n",
    "\n",
    "\n",
    "\n",
    "\n",
    "*** \n",
    "\n",
    "* ### Joint Probability Density Function\n",
    "\n",
    "Two random variables X and Y are jointly continuous if there exist a nonnegative function \n",
    "\n",
    "$$ f_{XY} : \\mathbb{R²} \\rightarrow \\mathbb{R} $$\n",
    "\n",
    "Such that, for any set \n",
    "\n",
    "$$ A \\in \\mathbb{R²} $$\n",
    "\n",
    "$$ P((X,Y) \\in  A) = \\iint\\limits_{A} f_{XY} (x,y) dx dy $$\n",
    "\n",
    "\n",
    "\n",
    "\n",
    "***\n"
   ]
  },
  {
   "cell_type": "markdown",
   "metadata": {},
   "source": []
  }
 ],
 "metadata": {
  "kernelspec": {
   "display_name": "Python 3.10.5 64-bit",
   "language": "python",
   "name": "python3"
  },
  "language_info": {
   "name": "python",
   "version": "3.10.5"
  },
  "orig_nbformat": 4,
  "vscode": {
   "interpreter": {
    "hash": "e7370f93d1d0cde622a1f8e1c04877d8463912d04d973331ad4851f04de6915a"
   }
  }
 },
 "nbformat": 4,
 "nbformat_minor": 2
}
