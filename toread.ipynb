{
 "cells": [
  {
   "cell_type": "markdown",
   "metadata": {},
   "source": [
    "* #### [Bayesian stuff](https://docslib.org/doc/411355/na%C3%AFve-bayes-classifier)\n",
    "* #### [Prob. Stuff](https://www.probabilitycourse.com/chapter5/5_2_1_joint_pdf.php)"
   ]
  },
  {
   "cell_type": "markdown",
   "metadata": {},
   "source": []
  }
 ],
 "metadata": {
  "language_info": {
   "name": "python"
  },
  "orig_nbformat": 4
 },
 "nbformat": 4,
 "nbformat_minor": 2
}
