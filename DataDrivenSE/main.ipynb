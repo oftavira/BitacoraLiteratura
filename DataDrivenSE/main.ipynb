{
 "cells": [
  {
   "cell_type": "markdown",
   "metadata": {},
   "source": [
    "### Primer aproximación para la descomposicion en valores singulares de espectros Raman\n",
    "\n",
    "Primeramente se propone una lectura de espectros Raman, estos serán objectos de la clase RamanSpectra"
   ]
  },
  {
   "cell_type": "code",
   "execution_count": 58,
   "metadata": {},
   "outputs": [],
   "source": [
    "# Objetivo : Empaquetar los espectros Raman en un Array para su decomposición en valores singulares\n",
    "# \n",
    "# El cálculo debe realizarse con la matriz M y la transpuesta MT\n",
    "\n",
    "import matplotlib.pyplot as plt\n",
    "import numpy as np\n",
    "import os\n",
    "\n",
    "# Definimos la Clase base \"RamanSpectra\" que debera contener información relacionada con la medicion\n",
    "# TODO: Podemos añadir un mapeo de intensidades para caracterizar la superficie de medicion\n",
    "# TODO: Añadir otros parametros de informacion para la muestra o espectro\n",
    "\n",
    "class RamanSpectra(object):\n",
    "\n",
    "    def __init__(self,data,info):\n",
    "        self.data = data\n",
    "        self.info = info\n",
    "        self.x = self.data[0]\n",
    "        self.y = self.data[1]\n",
    "        return;\n",
    "\n"
   ]
  },
  {
   "cell_type": "markdown",
   "metadata": {},
   "source": [
    "### La clase RamanSpectraGroup colecta todos los espectros Raman en una carpeta definida"
   ]
  },
  {
   "cell_type": "code",
   "execution_count": 59,
   "metadata": {},
   "outputs": [],
   "source": [
    "\n",
    "class RamanSpectraGroup(object):\n",
    "\n",
    "    def __init__(self):\n",
    "        # Un Grupo de espectros Raman será una lista de Objectos RamanSpectra\n",
    "        # con los atributos de info y data, inicialmente el atributo spectra es una lista vacía\n",
    "\n",
    "        # TODO: Es posible añadir una opcion que distinga cuando un espectro ya ha sido añadido al grupo de\n",
    "        # espectros Raman\n",
    "        \n",
    "        self.ramanSpectra = []\n",
    "        return;\n",
    "\n",
    "    def getFromFolder(self, folder):\n",
    "        # NOTE: Este método no verifica si los archivos en el folder seleccionado ya se encuentran en self.spectra\n",
    "        # el método construye una lista de archivos en el directorio seleccionado y llama al método\n",
    "        # getDetailedSpectra con una lista que pasa a su argumento (self.files)\n",
    "        self.folder = '/' + folder\n",
    "        self.path   = os.getcwd()\n",
    "        # TODO: Verificar si es posible discriminar con - if file in files - para evitar la duplicacion de archivos\n",
    "        self.files  = [ self.path + self.folder + '/' + f for f in os.listdir(self.path + self.folder)]\n",
    "        self.getDetailedSpectra(self.files)\n",
    "        return;\n",
    "\n",
    "    def getDetailedSpectra(self, targets):\n",
    "        for file in targets:\n",
    "            with open(file, 'r', encoding = 'unicode_escape') as tempfile:\n",
    "                content = tempfile.read()\n",
    "                info    = content.split('#Acquired')[1].split('\\n')[0].replace(\"=\\t\",'')\n",
    "                values  = content.split('#Acquired')[1].split('\\n')[1:-1]\n",
    "                spx=[]\n",
    "                spy=[]\n",
    "                for string_values in values:\n",
    "                    try:\n",
    "                        x = float(string_values.split('\\t')[0])\n",
    "                        y = float(string_values.split('\\t')[1])\n",
    "                    except:\n",
    "                        print('Ocurrio un error al hacer la lectura de los archivos')\n",
    "                    spx.append(x)\n",
    "                    spy.append(y)\n",
    "                self.ramanSpectra.append(RamanSpectra((spx,spy), info ))\n",
    "        return;\n",
    "    \n",
    "    def returnMatrix(self, intt, xy = 1):\n",
    "        ls = []\n",
    "        for raman in self.ramanSpectra:\n",
    "            ls.append(raman.data[xy])\n",
    "        return ls;"
   ]
  },
  {
   "cell_type": "code",
   "execution_count": 60,
   "metadata": {},
   "outputs": [],
   "source": [
    "rgroup = RamanSpectraGroup()\n",
    "rgroup.getFromFolder('datosramana')\n",
    "rgroup.getFromFolder('datosramanb')\n",
    "rgroup.getFromFolder('datosramanc')"
   ]
  },
  {
   "cell_type": "code",
   "execution_count": 61,
   "metadata": {},
   "outputs": [],
   "source": [
    "ls = []\n",
    "for spectra in rgroup.ramanSpectra:\n",
    "    ls.append(spectra.y)\n",
    "\n",
    "ls = np.column_stack(ls)\n",
    "\n"
   ]
  },
  {
   "cell_type": "code",
   "execution_count": 62,
   "metadata": {},
   "outputs": [
    {
     "data": {
      "text/plain": [
       "array([[  42.,   52.,   36., ...,   40.,   46.,   40.],\n",
       "       [  44.,   54.,   46., ...,   46.,   48.,   46.],\n",
       "       [  46.,   48.,   54., ...,   52.,   56.,   52.],\n",
       "       ...,\n",
       "       [2710., 2318., 2606., ..., 1378., 2706., 1378.],\n",
       "       [2708., 2338., 2562., ..., 1394., 2680., 1394.],\n",
       "       [2646., 2336., 2628., ..., 1394., 2738., 1394.]])"
      ]
     },
     "execution_count": 62,
     "metadata": {},
     "output_type": "execute_result"
    }
   ],
   "source": [
    "ls"
   ]
  },
  {
   "cell_type": "code",
   "execution_count": 63,
   "metadata": {},
   "outputs": [
    {
     "name": "stderr",
     "output_type": "stream",
     "text": [
      "/home/jupyter/.local/lib/python3.10/site-packages/skimage/io/_plugins/matplotlib_plugin.py:150: UserWarning: Float image out of standard range; displaying image with stretched contrast.\n",
      "  lo, hi, cmap = _get_display_range(image)\n"
     ]
    },
    {
     "data": {
      "text/plain": [
       "<matplotlib.image.AxesImage at 0x7fa4b0037940>"
      ]
     },
     "execution_count": 63,
     "metadata": {},
     "output_type": "execute_result"
    },
    {
     "data": {
      "image/png": "[encoded data removed]",
      "text/plain": [
       "<Figure size 432x288 with 2 Axes>"
      ]
     },
     "metadata": {
      "needs_background": "light"
     },
     "output_type": "display_data"
    }
   ],
   "source": [
    "from skimage import io\n",
    "import numpy as np\n",
    "io.imshow(ls)"
   ]
  },
  {
   "cell_type": "code",
   "execution_count": 64,
   "metadata": {},
   "outputs": [],
   "source": [
    "U, S, VT = np.linalg.svd(ls,full_matrices=False)\n",
    "S = np.diag(S)\n",
    "\n",
    "j = 0\n",
    "for r in (5, 20, 100):\n",
    "    # Construct approximate image\n",
    "    Xapprox = U[:,:r] @ S[0:r,:r] @ VT[:r,:]\n",
    "    plt.figure(j+1)\n",
    "    j += 1\n",
    "    img = plt.imshow(Xapprox)\n",
    "    img.set_cmap('gray')\n",
    "    plt.axis('off')\n",
    "    plt.title('r = ' + str(r))\n",
    "    plt.show()"
   ]
  },
  {
   "cell_type": "code",
   "execution_count": null,
   "metadata": {},
   "outputs": [],
   "source": []
  }
 ],
 "metadata": {
  "kernelspec": {
   "display_name": "Python 3.10.6 64-bit",
   "language": "python",
   "name": "python3"
  },
  "language_info": {
   "codemirror_mode": {
    "name": "ipython",
    "version": 3
   },
   "file_extension": ".py",
   "mimetype": "text/x-python",
   "name": "python",
   "nbconvert_exporter": "python",
   "pygments_lexer": "ipython3",
   "version": "3.10.6"
  },
  "orig_nbformat": 4,
  "vscode": {
   "interpreter": {
    "hash": "e7370f93d1d0cde622a1f8e1c04877d8463912d04d973331ad4851f04de6915a"
   }
  }
 },
 "nbformat": 4,
 "nbformat_minor": 2
}
