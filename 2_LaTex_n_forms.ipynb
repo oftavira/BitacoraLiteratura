{
 "cells": [
  {
   "cell_type": "markdown",
   "metadata": {},
   "source": [
    "#### Main purpose...\n",
    "\n",
    "A method based on joint sparse representation is applied to denoise Raman signal and to obtain the sparse representation of this signal. The information preserves trough the analysis, an orthogonal matching pursuit algorithm provides this develop.\n",
    "\n",
    "Sparse representation intend to represent signals with as few as possible significant coefficients. Thus, the information must be preserved and the coefficients may carry the most important features of the samples"
   ]
  },
  {
   "cell_type": "markdown",
   "metadata": {},
   "source": [
    "#### Sources of Noise\n",
    "\n",
    "- Unspecific absorption of radiation by colored or black samples\n",
    "- Charge couple device of Raman spectrometer"
   ]
  },
  {
   "cell_type": "markdown",
   "metadata": {},
   "source": [
    "#### Methods to denoise\n",
    "\n",
    "- Savitzky-Goaly\n",
    "- Wavelet transform\n",
    "- Empirical mode decomposition\n",
    "-"
   ]
  },
  {
   "cell_type": "markdown",
   "metadata": {},
   "source": [
    "#### Typical Sparse Representation Problem\n",
    "\n",
    "Sparse Representation has been attracting more and more interest in the signal processing field in recent years\n",
    "\n",
    "$$ y = Ds \\qquad (1)$$\n",
    "\n",
    "in which\n",
    "\n",
    "D Is a given dictionary matrix, it is an over complete dictionary\n",
    "$$ D \\in \\mathbb{R}^{M \\times N} \\mid  M \\leq N$$\n",
    "\n",
    "y Is a signal vector\n",
    "$$ y \\in \\mathbb{R}^{M} $$\n",
    "\n",
    "S is the representation coefficient vector, which is known to be sparse, that is, the number of nonzero terms in s is far less than N\n",
    "$$ s \\in \\mathbb{R}^{N} $$ "
   ]
  },
  {
   "cell_type": "markdown",
   "metadata": {},
   "source": [
    "In the research of sparse representation, the construction of dictionaries and the study of recovery algorithms computing sparse signal representation are closely related to a given dictinoary. The dictionaries should be designed to better fi the model in equaqtion (1)"
   ]
  },
  {
   "cell_type": "markdown",
   "metadata": {},
   "source": [
    "Two kinds of dictionaries can be chosen in the sparse representation, selecting one from a prespecified set of linear transforms or learned dictionary\n",
    "\n",
    "Traditional sparse representation can be solved using the following optimization problem\n",
    "\n",
    "$$ \\min_{s} ||s||_{0}  \\qquad y = Ds \\qquad or \\qquad \\rVert y-Ds \\rVert_{2} \\leq \\epsilon $$ \n",
    "\n",
    "***"
   ]
  },
  {
   "cell_type": "markdown",
   "metadata": {},
   "source": [
    "$$\n",
    "\\langle{f(x) \\: , \\: g(x)}\\rangle{} = \\int_{a}^{b} f(x) \\overline{g(x)} dx\n",
    "$$\n",
    "***\n"
   ]
  },
  {
   "cell_type": "markdown",
   "metadata": {},
   "source": [
    "$$\n",
    "\\underline{f(x)} = \\begin{bmatrix}\n",
    "        f_{1} \\\\\n",
    "        f_{2} \\\\\n",
    "        \\vdots \\\\\n",
    "        f_{n}\n",
    "      \\end{bmatrix}\n",
    "$$\n",
    "***"
   ]
  },
  {
   "cell_type": "markdown",
   "metadata": {},
   "source": [
    "$$\n",
    "\\langle{\\underline{f(x)} , \\underline{g(x)} } \\rangle{} = \\underline{g(x)^T} \\: \\underline{f(x)} = \\sum_{k=1}^{n} f_k \\; g_k \n",
    "$$\n",
    "***"
   ]
  },
  {
   "cell_type": "markdown",
   "metadata": {},
   "source": [
    "$$\n",
    "f(x)=\\sum_{k = - \\infty }^{\\infty} C_{k} \\; e^{ikx} = \\sum_{k = - \\infty}^{\\infty} (\\alpha_{k} + i\\beta_{k}) (cos(kx)+isin(kx))\n",
    "$$\n",
    "***"
   ]
  },
  {
   "cell_type": "markdown",
   "metadata": {},
   "source": [
    "$$\n",
    "\\mathcal{F(f*g)} = \\mathcal{F(f)} \\mathcal{F(g)} = \\hat{f} \\; \\hat{g} \n",
    "$$\n",
    "***"
   ]
  },
  {
   "cell_type": "markdown",
   "metadata": {},
   "source": [
    "#### Is there a way to visualize how the information of a system is spread over multi dimensional spaces?\n",
    "\n",
    "SVD Intents to describe higher dimensional systems in terms of the variables who carry most of the information. Here we say that $A$  in $\\mathbb{R} \\: m \\times n$ is a matrix with entries in $\\mathbb{R}$ that contains $n$ vectors of the form $x_i \\in \\mathbb{R}$ as column vectors, that is, we have $m$ variables in $n$ samples"
   ]
  },
  {
   "cell_type": "markdown",
   "metadata": {},
   "source": [
    "***\n",
    "$$ \\mathbf{Spectral \\; Theorem : } \\textit{If A is a symmetric (meaning  $A^T = A$), then A is orthogonally diagonalizable} $$\n",
    "\n",
    "$$ \\textit{and has only real eigenvalues. In other words, there exist real numbers $\\lambda_1 , ...\\; , \\lambda_n $} $$\n",
    "\n",
    "$$ \\textit{(the eigenvalues) and orthogonal, non-zero real vectors  $\\vec{v}_{1} , ... \\, , \\vec{v}_{n}$ (the eigen vectors) } $$\n",
    "\n",
    "$$ \\textit{such that for each i = 1,...,n } $$\n",
    "\n",
    "$$ A\\vec{v}_{i} = \\lambda_{i} \\vec{v}_{i} $$\n",
    "\n",
    "***"
   ]
  },
  {
   "cell_type": "markdown",
   "metadata": {},
   "source": [
    "#### Eigenvectors and eigenvalues\n",
    "\n",
    "When dealing with matrices we must specify wether if we want eigen solutions in R, C or other field, because the existence of such eigen solutions depends on what domain we are working with\n",
    "\n",
    "***"
   ]
  },
  {
   "cell_type": "markdown",
   "metadata": {},
   "source": [
    "\n",
    "$$\n",
    "\\begin{pmatrix}\n",
    "2 & 5 & 0\\\\\n",
    "7 & 3 & 8\\\\\n",
    "3 & 0 & 1\n",
    "\\end{pmatrix}\n",
    "$$"
   ]
  },
  {
   "cell_type": "markdown",
   "metadata": {},
   "source": [
    "***\n",
    "\n",
    "* ### Stocastic Variable\n",
    "\n",
    "A random variable (also called random quantity, aleatory variable, or stochastic variable) is a mathematical formalization of a quantity or object which depends on random events. It is a mapping or a function from possible outcomes in a sample space to a measurable space, often the real numbers.\n",
    "\n",
    "\n",
    "\n",
    "\n",
    "*** \n",
    "\n",
    "* ### Joint Probability Density Function\n",
    "\n",
    "Two random variables X and Y are jointly continuous if there exist a nonnegative function \n",
    "\n",
    "$$ f_{XY} : \\mathbb{R²} \\rightarrow \\mathbb{R} $$\n",
    "\n",
    "Such that, for any set \n",
    "\n",
    "$$ A \\in \\mathbb{R²} $$\n",
    "\n",
    "$$ P((X,Y) \\in  A) = \\iint\\limits_{A} f_{XY} (x,y) dx dy $$\n",
    "\n",
    "\n",
    "\n",
    "\n",
    "***"
   ]
  },
  {
   "cell_type": "markdown",
   "metadata": {},
   "source": []
  }
 ],
 "metadata": {
  "kernelspec": {
   "display_name": "Python 3 (ipykernel)",
   "language": "python",
   "name": "python3"
  },
  "language_info": {
   "codemirror_mode": {
    "name": "ipython",
    "version": 3
   },
   "file_extension": ".py",
   "mimetype": "text/x-python",
   "name": "python",
   "nbconvert_exporter": "python",
   "pygments_lexer": "ipython3",
   "version": "3.10.7"
  },
  "vscode": {
   "interpreter": {
    "hash": "e7370f93d1d0cde622a1f8e1c04877d8463912d04d973331ad4851f04de6915a"
   }
  }
 },
 "nbformat": 4,
 "nbformat_minor": 2
}
