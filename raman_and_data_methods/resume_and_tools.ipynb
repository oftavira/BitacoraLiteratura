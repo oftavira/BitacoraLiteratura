{
 "cells": [
  {
   "cell_type": "markdown",
   "metadata": {},
   "source": [
    "#### In the reference...\n",
    "\n",
    "A method based on joint sparse representation is applied to denoise Raman signal and to obtain the sparse representation of this signal. The information preserves trough the analysis, an orthogonal matching pursuit algorithm provides this develop.\n",
    "\n",
    "Sparse representation intend to represent signals with as few as possible significant coefficients. Thus, the information must hbe preserved and the coefficients may vcarry the most important features of the samples [[1]](https://doi.org/10.1007/978-981-10-2540-2)"
   ]
  },
  {
   "cell_type": "markdown",
   "metadata": {},
   "source": []
  },
  {
   "cell_type": "markdown",
   "metadata": {},
   "source": []
  }
 ],
 "metadata": {
  "kernelspec": {
   "display_name": "Python 3.10.5 64-bit",
   "language": "python",
   "name": "python3"
  },
  "language_info": {
   "name": "python",
   "version": "3.10.5"
  },
  "orig_nbformat": 4,
  "vscode": {
   "interpreter": {
    "hash": "e7370f93d1d0cde622a1f8e1c04877d8463912d04d973331ad4851f04de6915a"
   }
  }
 },
 "nbformat": 4,
 "nbformat_minor": 2
}
