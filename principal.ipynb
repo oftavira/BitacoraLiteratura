{
 "cells": [
  {
   "cell_type": "markdown",
   "metadata": {},
   "source": [
    "# 1 - Introducción\n",
    "\n",
    "## 1.1 - Objetivos generales del proyecto \n",
    "\n",
    "El presente trabajo se desarrolla principalmente para promover el fortalecimiento y desarrollo de proyectos multidisciplinarios. Inicialmente se comentan algunas areas potenciales de desarrollo, las cuales proporcionan ventajas a futuro para la inovación en técnicas espectroscopicas y otras tareas presentes en el laboratorio del G.F.E.S. - E.S.F.M.\n",
    "\n",
    "\n",
    " - Seguimiento de tareas desde github: Esta plataforma permite estructurar contenido facilmente a través de una Jupyter Notebook, este archivo es editable desde VScode que a su ves puede facilitar la ejecución de código escrito en diferentes lenguajes. Permite la inserción de código LaTex, siendo de utilidad al excribir ecuaciones. Utilizando las Notebooks de manera colaborativa podemos documentar el avance en un área de conocimiento, permitiendo conservar y eficientar el continuo progreso en una tarea cientifica, ya sea por un miembro del equipo o por quien sea asignado despues a tales actividades.\n",
    "\n",
    "\n",
    " - Integrar herramientas programáticas: Como se refiere en la literatura (Se anexa una carpeta con archivos) el tratamiento de los espectros, ya sea desde un modelo empirico o matemático en general se beneficia de ciertas técnicas de análisis que pueden efectuarse desde un programa escrito desde VScode, como inicio se sugiere utilizar python por su conexión a las JUpyter NOtebooks, aunque puede sin problemas extenderse a otro lenguaje. Algunos de los métodos que se refieren comunmente son PCA, SVD, FFT, PLS entre otros.\n",
    " \n",
    " - Homologar el progreso: Sin duda el principal objetivo es eficientar el trabajo, es por esto que en este documento/proyecto se incentiva a colaborar en un área espectroscópica, pero sin dudas este formato de proyecto tambien es aplicable a otras áreas, todo el contenido esta dirigido a ser explicado por si mismo y por referencias externas para su lectura sin dificultades.\n",
    "\n",
    "En lo posterior se explica brevemente todo lo relacionado a la parte técnica del proyecto.\n",
    "\n",
    "## 1.2 - Introducción a recursos técnicos\n",
    "\n",
    "Para dar seguimiento a un proyecto, \n",
    "\n",
    "- VSCode: Es un editor de código que integra facilmente una sincronización con github.\n",
    "- Git / Github\n",
    "- Python v 3.x.x"
   ]
  },
  {
   "cell_type": "markdown",
   "metadata": {},
   "source": [
    "# 2 - Estructura de archivos\n",
    "\n",
    "El proyecto esta configurado para poder 'clonarse' en cualquier dispositivo\n",
    "\n",
    "$$  \\texttt{This is Courier font.} $$\n"
   ]
  },
  {
   "cell_type": "markdown",
   "metadata": {},
   "source": []
  },
  {
   "cell_type": "markdown",
   "metadata": {},
   "source": []
  },
  {
   "cell_type": "markdown",
   "metadata": {},
   "source": [
    "#### Avances\n",
    "\n",
    "#### 1-. Grupos funcionales\n",
    "\n",
    "Para el entendimiento y explicación de la vida útil de farmacos y alimentos se propone anexar información relacionada a grupos funcionales, es decir, una especie de resumen de las características de dichos grupos que se relacionen directamente con técnicas de medición disponibles (IR, Raman etc.).\n",
    "\n",
    "Pame (Tipos de enlace o energías en la molécula)\n",
    " - Molecula de Paracetamol.\n",
    " - Molecula de Ibuprofeno.\n",
    "\n",
    "Sebas\n",
    "\n",
    " - *Identificar grupos funcionales* \n",
    " - \n",
    "\n",
    "#### 2-. Energías de enlace y Representación de grupos funcionales\n",
    "\n",
    "Estandarizar la forma en que se representarán los grupos funcionales. En la presente Notebook se propone la librería rdkit como una posible solución\n"
   ]
  },
  {
   "cell_type": "markdown",
   "metadata": {},
   "source": [
    "En las siguientes lineas de código se introducen dos ejemplos para librerías gráficas que pueden ser de utilidad"
   ]
  },
  {
   "cell_type": "code",
   "execution_count": 6,
   "metadata": {},
   "outputs": [
    {
     "data": {
      "image/png": "[encoded data removed]",
      "text/plain": [
       "<rdkit.Chem.rdchem.Mol at 0x7fb3c1e7ef80>"
      ]
     },
     "execution_count": 6,
     "metadata": {},
     "output_type": "execute_result"
    }
   ],
   "source": [
    "from rdkit import Chem\n",
    "import py3Dmol\n",
    "\n",
    "# Para una descripción mas detallada del uso de esta paquetería/librería por favor consulte (https://opencomputinglab.github.io/SubjectMatterNotebooks/chemistry/visualising-compounds.html)\n",
    "\n",
    "m = Chem.MolFromSmiles(\"C1=NC2=C(N1)C(=NC=N2)N\")\n",
    "m"
   ]
  },
  {
   "cell_type": "markdown",
   "metadata": {},
   "source": [
    "### Investigación de\n",
    "\n",
    "- Incluir Energías de ionización para la molecula de paracetamol\n",
    "- Degradación de polímeros (Preguntar a PS que tipos de procesos esperan observar ej. oxigenación y enlistarlos)\n",
    "- Complementar lista de bases de datos de espectros y demas información de utilidad\n"
   ]
  },
  {
   "cell_type": "markdown",
   "metadata": {},
   "source": [
    "### Bases de datos\n",
    "\n",
    "- Spectral Databes for Organic Compounds (https://sdbs.db.aist.go.jp/sdbs/cgi-bin/cre_index.cgi)\n"
   ]
  },
  {
   "cell_type": "markdown",
   "metadata": {},
   "source": [
    "- Energy Molecules and Chemical Reactions (http://www.brooklyn.cuny.edu/bc/ahp/BE/BioE/BE.ChemReact.2.01.html)\n",
    "\n"
   ]
  },
  {
   "cell_type": "markdown",
   "metadata": {},
   "source": [
    "#### NP Hard problems and its relations to the current calculation on Organic-Raman spectra\n",
    "\n",
    "A problem is said to be NP-Hard if an algorithm for solving it can be translated into one for solving any NP (non deterministic polynomial time) At least as hard as any NP Problem, Although it might, in fact, be harder. This problems can be solved in polynomial time by a non-deterministic machine. Please visit [Geeks4Geeks](https://www.geeksforgeeks.org/difference-between-np-hard-and-np-complete-problem/) and [Wolfram Alpha](https://mathworld.wolfram.com/NP-HardProblem.html#:~:text=A%20problem%20is%20NP%2Dhard,%2C%20in%20fact%2C%20be%20harder.) for more info"
   ]
  },
  {
   "cell_type": "markdown",
   "metadata": {},
   "source": []
  }
 ],
 "metadata": {
  "kernelspec": {
   "display_name": "Python 3.10.5 64-bit",
   "language": "python",
   "name": "python3"
  },
  "language_info": {
   "codemirror_mode": {
    "name": "ipython",
    "version": 3
   },
   "file_extension": ".py",
   "mimetype": "text/x-python",
   "name": "python",
   "nbconvert_exporter": "python",
   "pygments_lexer": "ipython3",
   "version": "3.10.5"
  },
  "orig_nbformat": 4,
  "vscode": {
   "interpreter": {
    "hash": "e7370f93d1d0cde622a1f8e1c04877d8463912d04d973331ad4851f04de6915a"
   }
  }
 },
 "nbformat": 4,
 "nbformat_minor": 2
}
