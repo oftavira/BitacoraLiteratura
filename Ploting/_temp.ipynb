{
 "cells": [
  {
   "cell_type": "code",
   "execution_count": 54,
   "id": "1bd411bd",
   "metadata": {},
   "outputs": [],
   "source": [
    "import os\n",
    "import sys\n",
    "import matplotlib.pyplot as plt\n",
    "\n",
    "# Definimos la Clase base \"RamanSpectra\" que debera contener información relacionada con la medicion\n",
    "# TODO: Podemos añadir un mapeo de intensidades para caracterizar la superficie de medicion\n",
    "# TODO: Añadir otros parametros de informacion para la muestra o espectro\n",
    "\n",
    "class RamanSpectra(object):\n",
    "    \"\"\"\n",
    "    RamanSpectra es un objeto que contiene los puntos de una medicion, es decir, \n",
    "    el objeto tiene un atributo correspondiente al eje x & otro para el eje y asi \n",
    "    como dos atributos mas para la información de la medición\n",
    "    \"\"\"\n",
    "\n",
    "    def __init__(self, pathFile, upLevels = 0):\n",
    "        self.readFromLocation(pathFile, upLevels)\n",
    "        return;\n",
    "    \n",
    "    def __str__(self):\n",
    "        return 'raman_s at +++ ' + self.r_id;\n",
    "\n",
    "    def __repr__(self):\n",
    "        return 'raman_s at ... ' + self.r_id;\n",
    "    \n",
    "    def readFromLocation(self, pathFile, upLevels):\n",
    "        count = 0\n",
    "        initialPath = os.getcwd().split('/')[1:]\n",
    "        # TODO: Raise error when upLevels > treeDepth\n",
    "        while count  < upLevels:\n",
    "            initialPath.pop()\n",
    "        docLoc = '/'+ '/'.join(initialPath)+pathFile\n",
    "        with open(docLoc, 'r', encoding = 'unicode_escape') as tempfile:\n",
    "                self.content = tempfile.read()\n",
    "                self.info    = self.content.split('#Acquired')[1].split('\\n')[0].replace(\"=\\t\",'')\n",
    "                self.values  = self.content.split('#Acquired')[1].split('\\n')[1:-1]\n",
    "                self.spx=[]\n",
    "                self.spy=[]\n",
    "                for string_values in self.values:\n",
    "                    try:\n",
    "                        x = float(string_values.split('\\t')[0])\n",
    "                        y = float(string_values.split('\\t')[1])\n",
    "                    except:\n",
    "                        print('Ocurrio un error al hacer la lectura de los archivos')\n",
    "                    self.spx.append(x)\n",
    "                    self.spy.append(y)\n",
    "        return;\n",
    "    \n",
    "    \n",
    "    def plot(self, darkMode=True):\n",
    "        if darkMode:\n",
    "            with plt.rc_context({'xtick.color':'white', 'ytick.color':'white', 'axes.facecolor':'1D0B3A'}):\n",
    "                fig, ax = plt.subplots()\n",
    "                ax.plot(self.spx, self.spy)\n",
    "                ax.set_title(self.info)\n",
    "        else:\n",
    "            fig, ax = plt.subplots()\n",
    "            ax.plot(self.spx, self.spy)\n",
    "            ax.set_title(self.info)"
   ]
  },
  {
   "cell_type": "code",
   "execution_count": null,
   "id": "9f3ffef3",
   "metadata": {},
   "outputs": [],
   "source": []
  },
  {
   "cell_type": "code",
   "execution_count": null,
   "id": "9f0c1def",
   "metadata": {},
   "outputs": [],
   "source": []
  },
  {
   "cell_type": "code",
   "execution_count": 55,
   "id": "bb489d51",
   "metadata": {},
   "outputs": [],
   "source": [
    "s = RamanSpectra('/test.txt')"
   ]
  },
  {
   "cell_type": "code",
   "execution_count": 58,
   "id": "f258178e",
   "metadata": {},
   "outputs": [
    {
     "data": {
      "image/png": "[encoded data removed]",
      "text/plain": [
       "<Figure size 432x288 with 1 Axes>"
      ]
     },
     "metadata": {
      "needs_background": "dark"
     },
     "output_type": "display_data"
    }
   ],
   "source": [
    "s.plot()"
   ]
  },
  {
   "cell_type": "code",
   "execution_count": null,
   "id": "88065987",
   "metadata": {},
   "outputs": [],
   "source": []
  }
 ],
 "metadata": {
  "kernelspec": {
   "display_name": "Python 3 (ipykernel)",
   "language": "python",
   "name": "python3"
  },
  "language_info": {
   "codemirror_mode": {
    "name": "ipython",
    "version": 3
   },
   "file_extension": ".py",
   "mimetype": "text/x-python",
   "name": "python",
   "nbconvert_exporter": "python",
   "pygments_lexer": "ipython3",
   "version": "3.10.7"
  }
 },
 "nbformat": 4,
 "nbformat_minor": 5
}
