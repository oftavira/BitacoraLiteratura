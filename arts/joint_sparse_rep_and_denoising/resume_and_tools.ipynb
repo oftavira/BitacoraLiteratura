{
 "cells": [
  {
   "cell_type": "markdown",
   "metadata": {},
   "source": [
    "#### Main purpose...\n",
    "\n",
    "A method based on joint sparse representation is applied to denoise Raman signal and to obtain the sparse representation of this signal. The information preserves trough the analysis, an orthogonal matching pursuit algorithm provides this develop.\n",
    "\n",
    "Sparse representation intend to represent signals with as few as possible significant coefficients. Thus, the information must be preserved and the coefficients may carry the most important features of the samples"
   ]
  },
  {
   "cell_type": "markdown",
   "metadata": {},
   "source": [
    "#### Sources of Noise\n",
    "\n",
    "- Unspecific absorption of radiation by colored or black samples\n",
    "- Charge couple device of Raman spectrometer"
   ]
  },
  {
   "cell_type": "markdown",
   "metadata": {},
   "source": [
    "#### Methods to denoise\n",
    "\n",
    "- Savitzky-Goaly\n",
    "- Wavelet transform\n",
    "- Empirical mode decomposition\n",
    "-"
   ]
  },
  {
   "cell_type": "markdown",
   "metadata": {},
   "source": [
    "#### Typical Sparse Representation Problem\n",
    "\n",
    "Sparse Representation has been attracting more and more interest in the signal processing field in recent years\n",
    "\n",
    "$$ y = Ds $$\n",
    "\n",
    "in which\n",
    "\n",
    "D Is a given dictionary matrix, it is an over complete dictionary\n",
    "$$ D \\in \\mathbb{R}^{M \\times N} \\mid  M \\leq N$$\n",
    "\n",
    "y Is a signal vector\n",
    "$$ y \\in \\mathbb{R}^{M} $$\n",
    "\n",
    "S is the representation coefficient vector, which is known to be sparse, that is, the number of nonzero terms in s is far less than N\n",
    "$$ s \\in \\mathbb{R}^{N} $$ "
   ]
  },
  {
   "cell_type": "markdown",
   "metadata": {},
   "source": []
  }
 ],
 "metadata": {
  "kernelspec": {
   "display_name": "Python 3.10.5 64-bit",
   "language": "python",
   "name": "python3"
  },
  "language_info": {
   "name": "python",
   "version": "3.10.5"
  },
  "orig_nbformat": 4,
  "vscode": {
   "interpreter": {
    "hash": "e7370f93d1d0cde622a1f8e1c04877d8463912d04d973331ad4851f04de6915a"
   }
  }
 },
 "nbformat": 4,
 "nbformat_minor": 2
}
