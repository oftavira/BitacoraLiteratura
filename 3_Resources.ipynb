{
 "cells": [
  {
   "cell_type": "markdown",
   "metadata": {},
   "source": [
    "* #### Guide for style and other tools\n",
    "\n",
    "This notebook contains the [reference](https://medium.com/analytics-vidhya/the-jupyter-notebook-formatting-guide-873ab39f765e) for some utils when editing notebooks and some util videos and external references. Also visit this [style guide](https://jupyterbook.org/en/stable/content/references.html)\n",
    "\n",
    "***\n",
    "\n",
    "* #### Sparse representation by Steve Brunton\n",
    "\n",
    "* #### [Bayesian stuff](https://docslib.org/doc/411355/na%C3%AFve-bayes-classifier)\n",
    "* #### [Prob. Stuff](https://www.probabilitycourse.com/chapter5/5_2_1_joint_pdf.php)"
   ]
  },
  {
   "cell_type": "markdown",
   "metadata": {},
   "source": []
  }
 ],
 "metadata": {
  "kernelspec": {
   "display_name": "Python 3.10.5 64-bit",
   "language": "python",
   "name": "python3"
  },
  "language_info": {
   "name": "python",
   "version": "3.10.6"
  },
  "orig_nbformat": 4,
  "vscode": {
   "interpreter": {
    "hash": "e7370f93d1d0cde622a1f8e1c04877d8463912d04d973331ad4851f04de6915a"
   }
  }
 },
 "nbformat": 4,
 "nbformat_minor": 2
}
