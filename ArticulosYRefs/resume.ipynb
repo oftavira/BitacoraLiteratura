{
 "cells": [
  {
   "cell_type": "markdown",
   "metadata": {},
   "source": [
    "[1] \"Vibrational Spectroscopy for Quality Assessment of Meat,\" remarks and explains why to carry out a study about the meat industry, focused on a non-destructive set of techniques such as near IR and Raman Spectroscopy.\n",
    "\n",
    "As discussed here, we try to get the most out of our lab equipment to characterize functional groups present in the compounds.\n",
    "\n",
    "It has been reported that in some food samples, Raman scattering may be masked by the presence of fluoresence signal in the experiment. To avoid this situation, there is a proposal of using Fourier Transform Raman Spectroscopy and Nd:YAG near IR as an excitation source, along with other techniques such as Surface Enhanced Raman Spectroscopy, Confocal Raman MIcrospectroscopy, and Raman Image Spectroscopy, latest techniques are suitable as they provide a way to make studys at very low concentration"
   ]
  },
  {
   "cell_type": "markdown",
   "metadata": {},
   "source": [
    "[2] It has been known that CIE (Commission Internationale de l'Elcairage), and 2"
   ]
  },
  {
   "cell_type": "code",
   "execution_count": null,
   "metadata": {},
   "outputs": [],
   "source": []
  }
 ],
 "metadata": {
  "kernelspec": {
   "display_name": "Python 3.10.5 64-bit",
   "language": "python",
   "name": "python3"
  },
  "language_info": {
   "codemirror_mode": {
    "name": "ipython",
    "version": 3
   },
   "file_extension": ".py",
   "mimetype": "text/x-python",
   "name": "python",
   "nbconvert_exporter": "python",
   "pygments_lexer": "ipython3",
   "version": "3.10.6"
  },
  "orig_nbformat": 4,
  "vscode": {
   "interpreter": {
    "hash": "e7370f93d1d0cde622a1f8e1c04877d8463912d04d973331ad4851f04de6915a"
   }
  }
 },
 "nbformat": 4,
 "nbformat_minor": 2
}
